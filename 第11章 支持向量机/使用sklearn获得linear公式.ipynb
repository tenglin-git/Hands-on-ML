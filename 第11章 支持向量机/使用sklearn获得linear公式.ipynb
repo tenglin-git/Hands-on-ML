{
 "cells": [
  {
   "cell_type": "code",
   "execution_count": 3,
   "metadata": {
    "collapsed": true
   },
   "outputs": [
    {
     "name": "stdout",
     "output_type": "stream",
     "text": [
      "数据集大小： 200\n"
     ]
    }
   ],
   "source": [
    "import numpy as np\n",
    "\n",
    "data = np.loadtxt('linear.csv', delimiter=',')\n",
    "print('数据集大小：', len(data))\n",
    "X = data[:, :2]\n",
    "y = data[:, 2]"
   ]
  },
  {
   "cell_type": "code",
   "execution_count": 5,
   "outputs": [
    {
     "name": "stdout",
     "output_type": "stream",
     "text": [
      "[ 1.  1.  1.  1. -1. -1. -1. -1. -1. -1. -1. -1. -1.  1. -1.  1.  1.  1.\n",
      "  1.  1. -1.  1.  1.  1. -1. -1.  1. -1. -1. -1.  1.  1.  1.  1. -1. -1.\n",
      " -1. -1. -1.  1. -1. -1. -1.  1. -1. -1. -1.  1. -1.  1.  1. -1. -1. -1.\n",
      " -1. -1. -1. -1. -1.  1.  1.  1.  1. -1.  1. -1. -1. -1.  1.  1.  1. -1.\n",
      "  1. -1. -1. -1.  1. -1. -1.  1. -1.  1.  1. -1. -1.  1.  1. -1.  1. -1.\n",
      "  1.  1. -1.  1.  1. -1. -1.  1.  1.  1.  1.  1.  1. -1. -1. -1.  1.  1.\n",
      " -1. -1.  1. -1.  1.  1.  1.  1.  1.  1. -1.  1.  1. -1.  1.  1. -1. -1.\n",
      " -1.  1.  1. -1.  1.  1. -1.  1.  1.  1. -1.  1. -1. -1.  1.  1. -1.  1.\n",
      "  1.  1.  1. -1. -1.  1. -1.  1. -1.  1.  1.  1. -1. -1. -1.  1.]\n"
     ]
    }
   ],
   "source": [
    "from sklearn.model_selection import train_test_split\n",
    "# 划分训练集和测试集\n",
    "X_train, X_test, y_train, y_test = train_test_split(X, y, test_size=0.2, random_state=42)"
   ],
   "metadata": {
    "collapsed": false
   }
  },
  {
   "cell_type": "code",
   "execution_count": 6,
   "outputs": [
    {
     "name": "stdout",
     "output_type": "stream",
     "text": [
      "y_pred: [-1.  1. -1. -1. -1. -1. -1. -1. -1.  1. -1. -1. -1.  1. -1.  1. -1. -1.\n",
      " -1.  1.  1. -1.  1.  1. -1. -1.  1. -1.  1. -1. -1.  1. -1. -1.  1.  1.\n",
      " -1.  1.  1.  1.]\n",
      "Accuracy: 1.0\n"
     ]
    }
   ],
   "source": [
    "from sklearn.svm import SVC\n",
    "from sklearn.metrics import accuracy_score\n",
    "\n",
    "# 创建SVM分类器\n",
    "svm = SVC(kernel='linear', C=1.0, random_state=42)\n",
    "\n",
    "# 训练SVM模型\n",
    "svm.fit(X_train, y_train)\n",
    "\n",
    "# 在测试集上进行预测\n",
    "y_pred = svm.predict(X_test)\n",
    "print('y_pred:',y_pred)\n",
    "\n",
    "# 计算准确率\n",
    "accuracy = accuracy_score(y_test, y_pred)\n",
    "print(\"Accuracy:\", accuracy)"
   ],
   "metadata": {
    "collapsed": false
   }
  },
  {
   "cell_type": "code",
   "execution_count": 7,
   "outputs": [
    {
     "name": "stdout",
     "output_type": "stream",
     "text": [
      "Weights: [-0.98271406  1.57820907]\n",
      "Bias: -1.1876992809706428\n"
     ]
    }
   ],
   "source": [
    "# 获取权重向量和偏置项\n",
    "weights = svm.coef_[0]  # 对于多类分类，这里会有多个权重向量，但线性SVM在二分类时只有一个\n",
    "bias = svm.intercept_[0]  # 对于多类分类，这里会有多个截距，但线性SVM在二分类时只有一个\n",
    "\n",
    "print(\"Weights:\", weights)\n",
    "print(\"Bias:\", bias)"
   ],
   "metadata": {
    "collapsed": false
   }
  },
  {
   "cell_type": "code",
   "execution_count": 8,
   "outputs": [
    {
     "name": "stdout",
     "output_type": "stream",
     "text": [
      "Predicted class label: -1\n"
     ]
    }
   ],
   "source": [
    "# 假设有一个新的数据点 x_new\n",
    "x_new = np.array([[-0.5, -0.4]])\n",
    "\n",
    "# 计算预测值\n",
    "prediction = np.dot(x_new, weights) + bias\n",
    "\n",
    "# 由于SVM的输出是决策函数值，你可能需要将其转换为类别标签（对于二分类问题）：\n",
    "if prediction >= 0:\n",
    "    class_label = 1\n",
    "else:\n",
    "    class_label = -1  # 或者根据你的具体情况，可能是0或其他标签\n",
    "\n",
    "print(\"Predicted class label:\", class_label)"
   ],
   "metadata": {
    "collapsed": false
   }
  },
  {
   "cell_type": "code",
   "execution_count": 9,
   "outputs": [
    {
     "data": {
      "text/plain": "<Figure size 640x480 with 1 Axes>",
      "image/png": "[encoded data removed]"
     },
     "metadata": {},
     "output_type": "display_data"
    }
   ],
   "source": [
    "import matplotlib.pyplot as plt\n",
    "# 数据集可视化\n",
    "plt.figure()\n",
    "plt.scatter(X[y == -1, 0], X[y == -1, 1], color='red', label='y=-1')\n",
    "plt.scatter(X[y == 1, 0], X[y == 1, 1], color='blue', marker='x', label='y=1')\n",
    "plt.xlabel(r'$x_1$')\n",
    "plt.ylabel(r'$x_2$')\n",
    "plt.legend()\n",
    "plt.show()"
   ],
   "metadata": {
    "collapsed": false
   }
  },
  {
   "cell_type": "code",
   "execution_count": null,
   "outputs": [],
   "source": [],
   "metadata": {
    "collapsed": false
   }
  }
 ],
 "metadata": {
  "kernelspec": {
   "display_name": "Python 3",
   "language": "python",
   "name": "python3"
  },
  "language_info": {
   "codemirror_mode": {
    "name": "ipython",
    "version": 2
   },
   "file_extension": ".py",
   "mimetype": "text/x-python",
   "name": "python",
   "nbconvert_exporter": "python",
   "pygments_lexer": "ipython2",
   "version": "2.7.6"
  }
 },
 "nbformat": 4,
 "nbformat_minor": 0
}
