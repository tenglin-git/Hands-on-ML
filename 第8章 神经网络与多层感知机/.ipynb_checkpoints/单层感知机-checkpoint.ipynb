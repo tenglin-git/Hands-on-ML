{
 "cells": [
  {
   "cell_type": "code",
   "execution_count": 3,
   "outputs": [],
   "source": [
    "import numpy as np\n",
    "import random\n",
    "import matplotlib.pyplot as plt\n",
    "\n",
    "# sign function\n",
    "def sign(v):\n",
    "    if v > 0:\n",
    "        return 1\n",
    "    else:\n",
    "        return -1"
   ],
   "metadata": {
    "collapsed": false
   }
  },
  {
   "cell_type": "code",
   "execution_count": 4,
   "outputs": [],
   "source": [
    "# train function to get weight and bias\n",
    "def training():\n",
    "    train_data1 = [[1, 3, 1], [2, 5, 1], [3, 8, 1], [2, 6, 1]]  # positive sample\n",
    "    train_data2 = [[3, 1, -1], [4, 1, -1], [6, 2, -1], [7, 3, -1]]  # negative sample\n",
    "    train_data = train_data1 + train_data2\n",
    "\n",
    "    weight = [0, 0]\n",
    "    bias = 0\n",
    "    learning_rate = 0.1\n",
    "\n",
    "    train_num = int(input(\"train num:\"))\n",
    "\n",
    "    for i in range(train_num):\n",
    "        train = random.choice(train_data)\n",
    "        x1, x2, y = train\n",
    "        y_predict = sign(weight[0] * x1 + weight[1] * x2 + bias)\n",
    "        print(\"train data:x:(%d, %d) y:%d ==>y_predict:%d\" % (x1, x2, y, y_predict))\n",
    "        if y * y_predict <= 0:\n",
    "            weight[0] = weight[0] + learning_rate * y * x1\n",
    "            weight[1] = weight[1] + learning_rate * y * x2\n",
    "            bias = bias + learning_rate * y\n",
    "            print(\"update weight and bias:\")\n",
    "            print(weight[0], weight[1], bias)\n",
    "    print(\"stop training :\")\n",
    "    print(weight[0], weight[1], bias)\n",
    "\n",
    "    # plot the train data and the hyper curve\n",
    "    plt.plot(np.array(train_data1)[:, 0], np.array(train_data1)[:, 1], 'ro')\n",
    "    plt.plot(np.array(train_data2)[:, 0], np.array(train_data2)[:, 1], 'bo')\n",
    "    x_1 = []\n",
    "    x_2 = []\n",
    "    for i in range(-10, 10):\n",
    "        x_1.append(i)\n",
    "        x_2.append((-weight[0] * i - bias) / weight[1])\n",
    "    plt.plot(x_1, x_2)\n",
    "    plt.show()\n",
    "\n",
    "    return weight, bias"
   ],
   "metadata": {
    "collapsed": false
   }
  },
  {
   "cell_type": "code",
   "execution_count": 5,
   "outputs": [],
   "source": [
    "# test function to predict\n",
    "def test():\n",
    "    weight, bias = training()\n",
    "    while True:\n",
    "        test_data = []\n",
    "        data = input(\"enter q to quit,enter test data (x1, x2):\")\n",
    "        if data == 'q':\n",
    "            break\n",
    "        test_data += [int(n) for n in data.split(',')]\n",
    "        predict = sign(weight[0] * test_data[0] + weight[1] * test_data[1] + bias)\n",
    "        print(f\"predict data:{data} ==> {predict}\")"
   ],
   "metadata": {
    "collapsed": false
   }
  },
  {
   "cell_type": "code",
   "execution_count": 6,
   "outputs": [
    {
     "name": "stdout",
     "output_type": "stream",
     "text": [
      "train data:x:(2, 5) y:1 ==>y_predict:-1\n",
      "update weight and bias:\n",
      "0.2 0.5 0.1\n",
      "train data:x:(2, 5) y:1 ==>y_predict:1\n",
      "train data:x:(6, 2) y:-1 ==>y_predict:1\n",
      "update weight and bias:\n",
      "-0.4000000000000001 0.3 0.0\n",
      "train data:x:(4, 1) y:-1 ==>y_predict:-1\n",
      "train data:x:(1, 3) y:1 ==>y_predict:1\n",
      "train data:x:(6, 2) y:-1 ==>y_predict:-1\n",
      "train data:x:(2, 6) y:1 ==>y_predict:1\n",
      "train data:x:(4, 1) y:-1 ==>y_predict:-1\n",
      "train data:x:(2, 6) y:1 ==>y_predict:1\n",
      "train data:x:(2, 6) y:1 ==>y_predict:1\n",
      "train data:x:(7, 3) y:-1 ==>y_predict:-1\n",
      "train data:x:(3, 1) y:-1 ==>y_predict:-1\n",
      "train data:x:(7, 3) y:-1 ==>y_predict:-1\n",
      "train data:x:(3, 1) y:-1 ==>y_predict:-1\n",
      "train data:x:(3, 8) y:1 ==>y_predict:1\n",
      "train data:x:(1, 3) y:1 ==>y_predict:1\n",
      "train data:x:(4, 1) y:-1 ==>y_predict:-1\n",
      "train data:x:(2, 6) y:1 ==>y_predict:1\n",
      "train data:x:(2, 5) y:1 ==>y_predict:1\n",
      "train data:x:(4, 1) y:-1 ==>y_predict:-1\n",
      "train data:x:(3, 8) y:1 ==>y_predict:1\n",
      "train data:x:(6, 2) y:-1 ==>y_predict:-1\n",
      "train data:x:(7, 3) y:-1 ==>y_predict:-1\n",
      "train data:x:(2, 6) y:1 ==>y_predict:1\n",
      "train data:x:(6, 2) y:-1 ==>y_predict:-1\n",
      "train data:x:(3, 8) y:1 ==>y_predict:1\n",
      "train data:x:(3, 1) y:-1 ==>y_predict:-1\n",
      "train data:x:(7, 3) y:-1 ==>y_predict:-1\n",
      "train data:x:(2, 5) y:1 ==>y_predict:1\n",
      "train data:x:(4, 1) y:-1 ==>y_predict:-1\n",
      "train data:x:(6, 2) y:-1 ==>y_predict:-1\n",
      "train data:x:(1, 3) y:1 ==>y_predict:1\n",
      "train data:x:(7, 3) y:-1 ==>y_predict:-1\n",
      "train data:x:(3, 1) y:-1 ==>y_predict:-1\n",
      "train data:x:(1, 3) y:1 ==>y_predict:1\n",
      "train data:x:(2, 5) y:1 ==>y_predict:1\n",
      "train data:x:(3, 1) y:-1 ==>y_predict:-1\n",
      "train data:x:(6, 2) y:-1 ==>y_predict:-1\n",
      "train data:x:(7, 3) y:-1 ==>y_predict:-1\n",
      "train data:x:(4, 1) y:-1 ==>y_predict:-1\n",
      "train data:x:(7, 3) y:-1 ==>y_predict:-1\n",
      "train data:x:(3, 1) y:-1 ==>y_predict:-1\n",
      "train data:x:(6, 2) y:-1 ==>y_predict:-1\n",
      "train data:x:(6, 2) y:-1 ==>y_predict:-1\n",
      "train data:x:(1, 3) y:1 ==>y_predict:1\n",
      "train data:x:(2, 6) y:1 ==>y_predict:1\n",
      "train data:x:(1, 3) y:1 ==>y_predict:1\n",
      "train data:x:(2, 6) y:1 ==>y_predict:1\n",
      "train data:x:(1, 3) y:1 ==>y_predict:1\n",
      "train data:x:(3, 8) y:1 ==>y_predict:1\n",
      "train data:x:(2, 5) y:1 ==>y_predict:1\n",
      "train data:x:(4, 1) y:-1 ==>y_predict:-1\n",
      "train data:x:(2, 5) y:1 ==>y_predict:1\n",
      "train data:x:(6, 2) y:-1 ==>y_predict:-1\n",
      "train data:x:(1, 3) y:1 ==>y_predict:1\n",
      "train data:x:(4, 1) y:-1 ==>y_predict:-1\n",
      "train data:x:(6, 2) y:-1 ==>y_predict:-1\n",
      "train data:x:(4, 1) y:-1 ==>y_predict:-1\n",
      "train data:x:(2, 5) y:1 ==>y_predict:1\n",
      "train data:x:(4, 1) y:-1 ==>y_predict:-1\n",
      "train data:x:(1, 3) y:1 ==>y_predict:1\n",
      "train data:x:(2, 5) y:1 ==>y_predict:1\n",
      "train data:x:(6, 2) y:-1 ==>y_predict:-1\n",
      "train data:x:(3, 8) y:1 ==>y_predict:1\n",
      "train data:x:(2, 6) y:1 ==>y_predict:1\n",
      "train data:x:(6, 2) y:-1 ==>y_predict:-1\n",
      "train data:x:(3, 1) y:-1 ==>y_predict:-1\n",
      "train data:x:(4, 1) y:-1 ==>y_predict:-1\n",
      "train data:x:(2, 5) y:1 ==>y_predict:1\n",
      "train data:x:(4, 1) y:-1 ==>y_predict:-1\n",
      "train data:x:(1, 3) y:1 ==>y_predict:1\n",
      "train data:x:(6, 2) y:-1 ==>y_predict:-1\n",
      "train data:x:(4, 1) y:-1 ==>y_predict:-1\n",
      "train data:x:(2, 5) y:1 ==>y_predict:1\n",
      "train data:x:(7, 3) y:-1 ==>y_predict:-1\n",
      "train data:x:(2, 5) y:1 ==>y_predict:1\n",
      "train data:x:(3, 8) y:1 ==>y_predict:1\n",
      "train data:x:(1, 3) y:1 ==>y_predict:1\n",
      "train data:x:(3, 8) y:1 ==>y_predict:1\n",
      "train data:x:(3, 8) y:1 ==>y_predict:1\n",
      "train data:x:(7, 3) y:-1 ==>y_predict:-1\n",
      "train data:x:(2, 6) y:1 ==>y_predict:1\n",
      "train data:x:(2, 6) y:1 ==>y_predict:1\n",
      "train data:x:(3, 8) y:1 ==>y_predict:1\n",
      "train data:x:(2, 5) y:1 ==>y_predict:1\n",
      "train data:x:(3, 8) y:1 ==>y_predict:1\n",
      "train data:x:(1, 3) y:1 ==>y_predict:1\n",
      "train data:x:(3, 8) y:1 ==>y_predict:1\n",
      "train data:x:(4, 1) y:-1 ==>y_predict:-1\n",
      "train data:x:(2, 6) y:1 ==>y_predict:1\n",
      "train data:x:(6, 2) y:-1 ==>y_predict:-1\n",
      "train data:x:(7, 3) y:-1 ==>y_predict:-1\n",
      "train data:x:(2, 6) y:1 ==>y_predict:1\n",
      "train data:x:(6, 2) y:-1 ==>y_predict:-1\n",
      "train data:x:(4, 1) y:-1 ==>y_predict:-1\n",
      "train data:x:(3, 1) y:-1 ==>y_predict:-1\n",
      "train data:x:(4, 1) y:-1 ==>y_predict:-1\n",
      "train data:x:(2, 5) y:1 ==>y_predict:1\n",
      "train data:x:(7, 3) y:-1 ==>y_predict:-1\n",
      "train data:x:(2, 6) y:1 ==>y_predict:1\n",
      "stop training :\n",
      "-0.4000000000000001 0.3 0.0\n"
     ]
    },
    {
     "data": {
      "text/plain": "<Figure size 640x480 with 1 Axes>",
      "image/png": "[encoded data removed]"
     },
     "metadata": {},
     "output_type": "display_data"
    },
    {
     "ename": "ValueError",
     "evalue": "invalid literal for int() with base 10: '2.5'",
     "output_type": "error",
     "traceback": [
      "\u001B[0;31m---------------------------------------------------------------------------\u001B[0m",
      "\u001B[0;31mValueError\u001B[0m                                Traceback (most recent call last)",
      "Cell \u001B[0;32mIn[6], line 2\u001B[0m\n\u001B[1;32m      1\u001B[0m \u001B[38;5;28;01mif\u001B[39;00m \u001B[38;5;18m__name__\u001B[39m \u001B[38;5;241m==\u001B[39m \u001B[38;5;124m\"\u001B[39m\u001B[38;5;124m__main__\u001B[39m\u001B[38;5;124m\"\u001B[39m:\n\u001B[0;32m----> 2\u001B[0m     \u001B[43mtest\u001B[49m\u001B[43m(\u001B[49m\u001B[43m)\u001B[49m\n",
      "Cell \u001B[0;32mIn[5], line 9\u001B[0m, in \u001B[0;36mtest\u001B[0;34m()\u001B[0m\n\u001B[1;32m      7\u001B[0m \u001B[38;5;28;01mif\u001B[39;00m data \u001B[38;5;241m==\u001B[39m \u001B[38;5;124m'\u001B[39m\u001B[38;5;124mq\u001B[39m\u001B[38;5;124m'\u001B[39m:\n\u001B[1;32m      8\u001B[0m     \u001B[38;5;28;01mbreak\u001B[39;00m\n\u001B[0;32m----> 9\u001B[0m test_data \u001B[38;5;241m+\u001B[39m\u001B[38;5;241m=\u001B[39m \u001B[43m[\u001B[49m\u001B[38;5;28;43mint\u001B[39;49m\u001B[43m(\u001B[49m\u001B[43mn\u001B[49m\u001B[43m)\u001B[49m\u001B[43m \u001B[49m\u001B[38;5;28;43;01mfor\u001B[39;49;00m\u001B[43m \u001B[49m\u001B[43mn\u001B[49m\u001B[43m \u001B[49m\u001B[38;5;129;43;01min\u001B[39;49;00m\u001B[43m \u001B[49m\u001B[43mdata\u001B[49m\u001B[38;5;241;43m.\u001B[39;49m\u001B[43msplit\u001B[49m\u001B[43m(\u001B[49m\u001B[38;5;124;43m'\u001B[39;49m\u001B[38;5;124;43m,\u001B[39;49m\u001B[38;5;124;43m'\u001B[39;49m\u001B[43m)\u001B[49m\u001B[43m]\u001B[49m\n\u001B[1;32m     10\u001B[0m predict \u001B[38;5;241m=\u001B[39m sign(weight[\u001B[38;5;241m0\u001B[39m] \u001B[38;5;241m*\u001B[39m test_data[\u001B[38;5;241m0\u001B[39m] \u001B[38;5;241m+\u001B[39m weight[\u001B[38;5;241m1\u001B[39m] \u001B[38;5;241m*\u001B[39m test_data[\u001B[38;5;241m1\u001B[39m] \u001B[38;5;241m+\u001B[39m bias)\n\u001B[1;32m     11\u001B[0m \u001B[38;5;28mprint\u001B[39m(\u001B[38;5;124mf\u001B[39m\u001B[38;5;124m\"\u001B[39m\u001B[38;5;124mpredict data:\u001B[39m\u001B[38;5;132;01m{\u001B[39;00mdata\u001B[38;5;132;01m}\u001B[39;00m\u001B[38;5;124m ==> \u001B[39m\u001B[38;5;132;01m{\u001B[39;00mpredict\u001B[38;5;132;01m}\u001B[39;00m\u001B[38;5;124m\"\u001B[39m)\n",
      "Cell \u001B[0;32mIn[5], line 9\u001B[0m, in \u001B[0;36m<listcomp>\u001B[0;34m(.0)\u001B[0m\n\u001B[1;32m      7\u001B[0m \u001B[38;5;28;01mif\u001B[39;00m data \u001B[38;5;241m==\u001B[39m \u001B[38;5;124m'\u001B[39m\u001B[38;5;124mq\u001B[39m\u001B[38;5;124m'\u001B[39m:\n\u001B[1;32m      8\u001B[0m     \u001B[38;5;28;01mbreak\u001B[39;00m\n\u001B[0;32m----> 9\u001B[0m test_data \u001B[38;5;241m+\u001B[39m\u001B[38;5;241m=\u001B[39m [\u001B[38;5;28;43mint\u001B[39;49m\u001B[43m(\u001B[49m\u001B[43mn\u001B[49m\u001B[43m)\u001B[49m \u001B[38;5;28;01mfor\u001B[39;00m n \u001B[38;5;129;01min\u001B[39;00m data\u001B[38;5;241m.\u001B[39msplit(\u001B[38;5;124m'\u001B[39m\u001B[38;5;124m,\u001B[39m\u001B[38;5;124m'\u001B[39m)]\n\u001B[1;32m     10\u001B[0m predict \u001B[38;5;241m=\u001B[39m sign(weight[\u001B[38;5;241m0\u001B[39m] \u001B[38;5;241m*\u001B[39m test_data[\u001B[38;5;241m0\u001B[39m] \u001B[38;5;241m+\u001B[39m weight[\u001B[38;5;241m1\u001B[39m] \u001B[38;5;241m*\u001B[39m test_data[\u001B[38;5;241m1\u001B[39m] \u001B[38;5;241m+\u001B[39m bias)\n\u001B[1;32m     11\u001B[0m \u001B[38;5;28mprint\u001B[39m(\u001B[38;5;124mf\u001B[39m\u001B[38;5;124m\"\u001B[39m\u001B[38;5;124mpredict data:\u001B[39m\u001B[38;5;132;01m{\u001B[39;00mdata\u001B[38;5;132;01m}\u001B[39;00m\u001B[38;5;124m ==> \u001B[39m\u001B[38;5;132;01m{\u001B[39;00mpredict\u001B[38;5;132;01m}\u001B[39;00m\u001B[38;5;124m\"\u001B[39m)\n",
      "\u001B[0;31mValueError\u001B[0m: invalid literal for int() with base 10: '2.5'"
     ]
    }
   ],
   "source": [
    "if __name__ == \"__main__\":\n",
    "    test()"
   ],
   "metadata": {
    "collapsed": false
   }
  },
  {
   "cell_type": "code",
   "execution_count": null,
   "outputs": [],
   "source": [],
   "metadata": {
    "collapsed": false
   }
  }
 ],
 "metadata": {
  "kernelspec": {
   "display_name": "Python 3",
   "language": "python",
   "name": "python3"
  },
  "language_info": {
   "codemirror_mode": {
    "name": "ipython",
    "version": 2
   },
   "file_extension": ".py",
   "mimetype": "text/x-python",
   "name": "python",
   "nbconvert_exporter": "python",
   "pygments_lexer": "ipython2",
   "version": "2.7.6"
  }
 },
 "nbformat": 4,
 "nbformat_minor": 0
}
